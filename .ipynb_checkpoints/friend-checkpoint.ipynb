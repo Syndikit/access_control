{
 "cells": [
  {
   "cell_type": "code",
   "execution_count": 3,
   "metadata": {},
   "outputs": [
    {
     "name": "stdout",
     "output_type": "stream",
     "text": [
      "['r', 'w']\n"
     ]
    }
   ],
   "source": [
    "class Friend:\n",
    "    \n",
    "    \"\"\"\n",
    "    Constructor, taking in the instance of the Friend class automatically.\n",
    "    Permissions bestowed upon this particular friend\n",
    "    \"\"\"\n",
    "    def __init__(self, permissions):\n",
    "        self.permissions = permissions\n",
    "    \n",
    "    pass\n",
    "\n",
    "dummy_perms = ['r', 'w']\n",
    "friend1 = Friend(dummy_perms)\n",
    "print(friend1.permissions)"
   ]
  },
  {
   "cell_type": "code",
   "execution_count": null,
   "metadata": {},
   "outputs": [],
   "source": []
  }
 ],
 "metadata": {
  "kernelspec": {
   "display_name": "Python 3",
   "language": "python",
   "name": "python3"
  },
  "language_info": {
   "codemirror_mode": {
    "name": "ipython",
    "version": 3
   },
   "file_extension": ".py",
   "mimetype": "text/x-python",
   "name": "python",
   "nbconvert_exporter": "python",
   "pygments_lexer": "ipython3",
   "version": "3.6.5"
  }
 },
 "nbformat": 4,
 "nbformat_minor": 2
}
