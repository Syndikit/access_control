{
 "cells": [
  {
   "cell_type": "code",
   "execution_count": 6,
   "metadata": {},
   "outputs": [
    {
     "name": "stdout",
     "output_type": "stream",
     "text": [
      "<__main__.Owner object at 0x000001B61AC5B278>\n"
     ]
    }
   ],
   "source": [
    "\"\"\"\n",
    "Profile Owner Class\n",
    "Will be used to add friends, post content, etc. \n",
    "\"\"\"\n",
    "\n",
    "#import Friend\n",
    "class Owner:\n",
    "    \n",
    "    friend_list = []\n",
    "    lists_made = []\n",
    "    \"\"\"\n",
    "    Constructor for owner of the profile\n",
    "    \"\"\"\n",
    "    def __init__(self, name):\n",
    "        self.name = name\n",
    "        \n",
    "    def add_friend(self, name, permissions):\n",
    "        \"\"\" Adds a Friend object to the friend list, with associated permissions \"\"\"\n",
    "        friend_list.append(Friend(name, permissions))\n",
    "    \n",
    "    def revoke_access(self,name,permissions):\n",
    "        for friend in friend_list:\n",
    "            if friend.name == name:\n",
    "                friend.permissions = permissions\n",
    "    \n",
    "    def add_to_friendlist(friend_name, target_list):\n",
    "        if friend_name not in friend_list or (target_list not in lists_made):\n",
    "            raise Exception('Your friend or list entered doesn\\'t exist')\n",
    "        else:\n",
    "            for lst in lists_made:\n",
    "                if lst['name'] == target_list:\n",
    "                    \n",
    "    \n",
    "me = Owner('Me')\n",
    "print(me)"
   ]
  },
  {
   "cell_type": "code",
   "execution_count": null,
   "metadata": {},
   "outputs": [],
   "source": []
  }
 ],
 "metadata": {
  "kernelspec": {
   "display_name": "Python 3",
   "language": "python",
   "name": "python3"
  },
  "language_info": {
   "codemirror_mode": {
    "name": "ipython",
    "version": 3
   },
   "file_extension": ".py",
   "mimetype": "text/x-python",
   "name": "python",
   "nbconvert_exporter": "python",
   "pygments_lexer": "ipython3",
   "version": "3.6.5"
  }
 },
 "nbformat": 4,
 "nbformat_minor": 2
}
