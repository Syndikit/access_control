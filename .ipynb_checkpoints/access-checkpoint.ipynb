{
 "cells": [
  {
   "cell_type": "code",
   "execution_count": 13,
   "metadata": {},
   "outputs": [
    {
     "name": "stdout",
     "output_type": "stream",
     "text": [
      "<owner.Owner object at 0x000001D2BEF35128>\n"
     ]
    }
   ],
   "source": [
    "\"\"\"\n",
    "Name: Michael Austin\n",
    "Login-ID: maa0075\n",
    "ID number: 800-259-122\n",
    "Assignment #: PA-2\n",
    "Date: 04/06/2019\n",
    "Purpose: Implement a simplified access control platform. \n",
    "\"\"\"\n",
    "\n",
    "import os\n",
    "import sys\n",
    "import platform\n",
    "import owner\n",
    "#import friend\n"
   ]
  },
  {
   "cell_type": "code",
   "execution_count": 10,
   "metadata": {},
   "outputs": [],
   "source": [
    "\"\"\"\n",
    "Constants\n",
    "\"\"\"\n",
    "START = 'friendadd'\n",
    "NAME_LEN = 30\n",
    "NAME_FORB =['/',':', '\\n','\\t', '\\ ']\n",
    "\n",
    "# Output file names \n",
    "FRIEND_FILE = 'friends.txt'\n",
    "LIST_FILE = 'lists.txt'\n",
    "PIC_FILE = 'pictures.txt'\n",
    "AUDIT_FILE = 'audit.txt'"
   ]
  },
  {
   "cell_type": "code",
   "execution_count": 11,
   "metadata": {},
   "outputs": [
    {
     "name": "stdout",
     "output_type": "stream",
     "text": [
      "['friendadd', 'root']\n"
     ]
    }
   ],
   "source": [
    "\n",
    "def get_file(filename):\n",
    "    # Detects the OS: (Windows, Linux, MacOS = Darwin)\n",
    "    this_os = platform.system()\n",
    "    start = ''\n",
    "    # Decides which root to start with\n",
    "    if this_os == 'Windows':\n",
    "        start = 'c:\\\\users'\n",
    "    elif this_os == 'Linux':\n",
    "        start = 'root\\\\'\n",
    "    \n",
    "    # Checks current directory for files, first.\n",
    "    cwd = os.getcwd()\n",
    "    if filename in cwd:\n",
    "        file = os.path.abspath(cwd+'\\\\'+filename)\n",
    "        print(file)\n",
    "    else:\n",
    "        \"\"\"\n",
    "        File not found in cwd, start from the root and work down \n",
    "        until you find the file\n",
    "        \"\"\"\n",
    "        for root, dirs, files in os.walk(start):\n",
    "            for name in files:\n",
    "                if name == filename:\n",
    "                    return os.path.abspath(os.path.join(root, name))\n",
    "    \n",
    "    \n",
    "\"\"\"\n",
    "Returns each line in the commands file\n",
    "\"\"\"\n",
    "def read_text(file):\n",
    "    line_list = []\n",
    "    # Standard Python open(), specifying read mode and taking in filename from above\n",
    "    f = open(file, 'r')\n",
    "    text = f.readlines()\n",
    "\n",
    "    for line in text:\n",
    "        \n",
    "        line_list.append(line.split())\n",
    "    return line_list\n",
    "    \n",
    "def main(arg):\n",
    "\n",
    "    \"\"\"\n",
    "    Gets the root of the current operating system for the absolute filepath\n",
    "    Returns a file object\n",
    "    \"\"\"\n",
    "    file = get_file(arg)\n",
    "    \n",
    "    \"\"\"\n",
    "    Each element in f is a list in which each word in the line of \n",
    "    text read in is an element. E.g. f = [[friendadd,root], [viewby, root], ...]\n",
    "    \"\"\"\n",
    "    f = read_text(file)\n",
    "    print(f[0])\n",
    "    \n",
    "\n",
    "main('TestCase1.txt')\n",
    "#main(sys.argv[1])\n",
    "    "
   ]
  },
  {
   "cell_type": "code",
   "execution_count": null,
   "metadata": {},
   "outputs": [],
   "source": [
    "COMMANDS = []\n",
    "\n",
    "if (len(f[0]) < 2) or (f[0][0] != START):\n",
    "    raise Exception\n",
    "\n",
    "    "
   ]
  },
  {
   "cell_type": "code",
   "execution_count": null,
   "metadata": {},
   "outputs": [],
   "source": [
    "\"\"\"\n",
    "Purpose: Creates a friend with a specified name\n",
    "Input: friend name (string)\n",
    "\"\"\"\n",
    "def friend_add(name):\n",
    "    "
   ]
  }
 ],
 "metadata": {
  "kernelspec": {
   "display_name": "Python 3",
   "language": "python",
   "name": "python3"
  },
  "language_info": {
   "codemirror_mode": {
    "name": "ipython",
    "version": 3
   },
   "file_extension": ".py",
   "mimetype": "text/x-python",
   "name": "python",
   "nbconvert_exporter": "python",
   "pygments_lexer": "ipython3",
   "version": "3.6.5"
  }
 },
 "nbformat": 4,
 "nbformat_minor": 2
}
