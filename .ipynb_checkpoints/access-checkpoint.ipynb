{
 "cells": [
  {
   "cell_type": "code",
   "execution_count": 7,
   "metadata": {},
   "outputs": [],
   "source": [
    "\"\"\"\n",
    "Name: Michael Austin\n",
    "Login-ID: maa0075\n",
    "ID number: 800-259-122\n",
    "Assignment #: PA-2\n",
    "Date: 04/06/2019\n",
    "Purpose: Implement a simplified access control platform. \n",
    "\"\"\"\n",
    "\n",
    "import os\n",
    "import sys\n",
    "import platform\n",
    "import owner\n",
    "#import friend\n",
    "\n",
    "\"\"\"\n",
    "Constants\n",
    "\"\"\"\n",
    "START = 'friendadd'\n",
    "NAME_LEN = 30\n",
    "NAME_FORB =['/',':', '\\n','\\t', '\\ ']\n",
    "COMMANDS = ['friendadd','viewby','logout','listadd','friendlist','postpicture',\n",
    "            'chlst','chmod','chown','readcomments','writecomments','end']\n",
    "\n",
    "# Output file names \n",
    "FRIEND = 'friends.txt'\n",
    "LIST = 'lists.txt'\n",
    "PIC = 'pictures.txt'\n",
    "AUDIT = 'audit.txt'"
   ]
  },
  {
   "cell_type": "code",
   "execution_count": 48,
   "metadata": {},
   "outputs": [
    {
     "data": {
      "text/plain": [
       "'\\ndef main(arg):\\n\\n    \\n    Gets the root of the current operating system for the absolute filepath\\n    Returns a file object\\n    \\n    file = get_file(arg)\\n    \\n    \\n    Each element in f is a list in which each word in the line of \\n    text read in is an element. E.g. f = [[friendadd,root], [viewby, root], ...]\\n    \\n    f = read_text(file)\\n    #print(f[0])\\n    make_file(AUDIT, \\'Open Command File.\\n\\')\\n    print(\\'Open Command File\\')\\n    pre_check(f)\\n    for command in f:\\n        if command[0] == \"friendadd\":\\n            pass\\n        if command[0] == \"\":\\n        \\n        if command[0] == \"\":\\n        \\n        if command[0] == \"\":\\n        \\n        if command[0] == \"\":\\n        \\n        if command[0] == \"\":\\n        \\n        if command[0] == \"\":\\n\\n    \\n\\n#main(\\'TestCase1.txt\\')\\n\\nif __name__==\"__main__\":\\n    main(sys.argv[1])\\n'"
      ]
     },
     "execution_count": 48,
     "metadata": {},
     "output_type": "execute_result"
    }
   ],
   "source": [
    "\n",
    "def get_file(filename):\n",
    "    \"\"\"\n",
    "    File not found in cwd, start from the root and work down \n",
    "    until you find the file\n",
    "    \"\"\"   \n",
    "    # Detects the OS: (Windows, Linux, MacOS = Darwin)\n",
    "    this_os = platform.system()\n",
    "    start = ''\n",
    "    # Decides which root to start with\n",
    "    if this_os == 'Windows':\n",
    "        start = 'c:\\\\users'\n",
    "    elif this_os == 'Linux':\n",
    "        start = 'root\\\\'\n",
    "    elif this_os == 'Darwin':\n",
    "        start = '\\\\User\\\\'\n",
    "    \n",
    "    cwd = os.getcwd()\n",
    "    try:\n",
    "    # Checks current directory for files, first.\n",
    "        if filename in cwd:\n",
    "            file = os.path.abspath(cwd+'\\\\'+filename)\n",
    "            print(file)\n",
    "     \n",
    "        else:\n",
    "            for root, dirs, files in os.walk(start):\n",
    "                for name in files:\n",
    "                    if name == filename:\n",
    "                        return os.path.abspath(os.path.join(root, name))\n",
    "    except FileNotFoundError as err:\n",
    "        make_file(AUDIT, err+' File was not found.')\n",
    "        print('File was not found')\n",
    "    \n",
    "    \n",
    "\n",
    "def read_text(file):\n",
    "    \"\"\"\n",
    "    Returns each line in the commands file as a list\n",
    "    \"\"\"\n",
    "    line_list = []\n",
    "    # Standard Python open(), specifying read mode and taking in filename from above\n",
    "    try:\n",
    "        with open(file,'r') as f:\n",
    "            for line in f:\n",
    "                # \n",
    "                line_list.append(line.split())\n",
    "        return line_list\n",
    "    except Exception as err:\n",
    "        add_output_entry(AUDIT, err+' Empty/ Incorrect Command File\\n')\n",
    "        print('Empty/ Incorrect Command File\\n' + err)\n",
    "        \n",
    "\n",
    "\n",
    "def make_file(filename, first_entry):\n",
    "    \"\"\"  Creates the initial friends, audit, list, or pictures output files  \"\"\"\n",
    "    with open(filename, 'w') as f:\n",
    "        f.write(first_entry)\n",
    "\n",
    "\n",
    "def add_output_entry(file,text):\n",
    "    with open(file, 'a') as f:\n",
    "        f.write(text + \"\\n\")\n",
    "\n",
    "def pre_check(cmd_list):\n",
    "    for i in cmd_list:\n",
    "        if i[0] not in COMMANDS:\n",
    "            add_output_entry(AUDIT,f'{i} is not one of the valid commands.')\n",
    "            print(f'{i} is not one of the valid commands.')\n",
    "\n",
    "def get_friend_list(friend_name):\n",
    "    \"\"\" \n",
    "    Gets the friends list of a particular user. \n",
    "    Input: target person whose list of friends we're looking for. \n",
    "    Output: List of friends. \n",
    "    \"\"\"\n",
    "    for i in test_dict:\n",
    "        if i == friend_name:\n",
    "            # May need to append to audit.txt ??\n",
    "            message = f'Returned friend list for {friend_name}'\n",
    "            add_output_entry(AUDIT, message)\n",
    "            print(message)\n",
    "            return test_dict[i]\n",
    "        else:\n",
    "            message = 'Error: Name given does not exist.'\n",
    "            add_output_entry(AUDIT, message)\n",
    "            print(message)\n",
    "            raise Exception\n",
    "\"\"\"\n",
    "def main(arg):\n",
    "\n",
    "    \n",
    "    Gets the root of the current operating system for the absolute filepath\n",
    "    Returns a file object\n",
    "    \n",
    "    file = get_file(arg)\n",
    "    \n",
    "    \n",
    "    Each element in f is a list in which each word in the line of \n",
    "    text read in is an element. E.g. f = [[friendadd,root], [viewby, root], ...]\n",
    "    \n",
    "    f = read_text(file)\n",
    "    #print(f[0])\n",
    "    make_file(AUDIT, 'Open Command File.\\n')\n",
    "    print('Open Command File')\n",
    "    pre_check(f)\n",
    "    for command in f:\n",
    "        if command[0] == \"friendadd\":\n",
    "            pass\n",
    "        if command[0] == \"\":\n",
    "        \n",
    "        if command[0] == \"\":\n",
    "        \n",
    "        if command[0] == \"\":\n",
    "        \n",
    "        if command[0] == \"\":\n",
    "        \n",
    "        if command[0] == \"\":\n",
    "        \n",
    "        if command[0] == \"\":\n",
    "\n",
    "    \n",
    "\n",
    "#main('TestCase1.txt')\n",
    "\n",
    "if __name__==\"__main__\":\n",
    "    main(sys.argv[1])\n",
    "\"\"\"\n",
    "    "
   ]
  },
  {
   "cell_type": "code",
   "execution_count": 32,
   "metadata": {},
   "outputs": [
    {
     "name": "stdout",
     "output_type": "stream",
     "text": [
      "Open Command File\n"
     ]
    }
   ],
   "source": [
    "file = get_file('TestCase1.txt')\n",
    "f = read_text(file)\n",
    "make_file(AUDIT, 'Open Command File.\\n')\n",
    "print('Open Command File')\n",
    "pre_check(f)\n"
   ]
  },
  {
   "cell_type": "code",
   "execution_count": 40,
   "metadata": {},
   "outputs": [],
   "source": [
    "names_lists_made = []\n",
    "test_dict = {'Harlke':['James']}\n",
    "\n",
    "test_dict['Harlke'].append('Tom') "
   ]
  },
  {
   "cell_type": "code",
   "execution_count": 41,
   "metadata": {},
   "outputs": [
    {
     "data": {
      "text/plain": [
       "{'Harlke': ['James', 'Tom']}"
      ]
     },
     "execution_count": 41,
     "metadata": {},
     "output_type": "execute_result"
    }
   ],
   "source": [
    "test_dict"
   ]
  },
  {
   "cell_type": "code",
   "execution_count": 42,
   "metadata": {},
   "outputs": [
    {
     "name": "stdout",
     "output_type": "stream",
     "text": [
      "Returned friend list for Harlke\n"
     ]
    }
   ],
   "source": [
    "allowed = get_friend_list('Harlke')"
   ]
  },
  {
   "cell_type": "code",
   "execution_count": 46,
   "metadata": {},
   "outputs": [],
   "source": [
    "who_view_profile = []\n",
    "profiles = ['mine']\n",
    "\n",
    "def viewby(name, target_profile):\n",
    "    \"\"\"\n",
    "    Allows only people in friends list to view the profile passed in, then \n",
    "    adds them to the viewing list (which can be no larger than 1 element)\n",
    "    and appends a message to screen and audit.txt.\n",
    "    Input: name (string) of person trying to view the profile (string) passed in \n",
    "    as second parameter\n",
    "    Output: None. Modifies global viewing list for that profile. \n",
    "    \"\"\"\n",
    "    # will need to swap out allowed list name below.\n",
    "    if name in allowed and not who_view_profile:\n",
    "        message = f'{name} is viewing the {target_profile}.'\n",
    "        add_output_entry(AUDIT, message)\n",
    "        who_view_profile.append(name)\n",
    "    else:\n",
    "        message = f'{name} cannot view {target_profile}.'\n",
    "        add_output_entry(AUDIT, message)\n",
    "        print(message)"
   ]
  },
  {
   "cell_type": "code",
   "execution_count": 47,
   "metadata": {},
   "outputs": [
    {
     "name": "stdout",
     "output_type": "stream",
     "text": [
      "J cannot view mine.\n",
      "[]\n"
     ]
    }
   ],
   "source": [
    "viewby('J','mine')\n",
    "print(who_view_profile)"
   ]
  },
  {
   "cell_type": "code",
   "execution_count": null,
   "metadata": {},
   "outputs": [],
   "source": [
    "def logout():\n",
    "    pass"
   ]
  }
 ],
 "metadata": {
  "kernelspec": {
   "display_name": "Python 3",
   "language": "python",
   "name": "python3"
  },
  "language_info": {
   "codemirror_mode": {
    "name": "ipython",
    "version": 3
   },
   "file_extension": ".py",
   "mimetype": "text/x-python",
   "name": "python",
   "nbconvert_exporter": "python",
   "pygments_lexer": "ipython3",
   "version": "3.6.5"
  }
 },
 "nbformat": 4,
 "nbformat_minor": 2
}
