{
 "cells": [
  {
   "cell_type": "code",
   "execution_count": 21,
   "metadata": {},
   "outputs": [
    {
     "name": "stdout",
     "output_type": "stream",
     "text": [
      "['Entry 1\\n', 'blah\\n', 'blah\\n', 'blah\\n', 'next kadlkja\\n']\n"
     ]
    }
   ],
   "source": [
    "test_file = open('test_output.txt', 'w')\n",
    "\n",
    "test_file.write('Entry 1\\n')\n",
    "\n",
    "test_file.close()\n",
    "\n",
    "def keep_adding(file,text):\n",
    "    f = open(file, 'a')\n",
    "    f.write(text + \"\\n\")\n",
    "    f.close()\n",
    "    \n",
    "keep_adding('test_output.txt','blah')\n",
    "keep_adding('test_output.txt','blah')\n",
    "keep_adding('test_output.txt','blah')\n",
    "\n",
    "def get_text(filename):\n",
    "    names = []\n",
    "    f = open(filename,'r')\n",
    "    data = f.readlines()\n",
    "    for line in data:\n",
    "        \n",
    "        #print(line)\n",
    "        names.append(line)\n",
    "    f.close()\n",
    "    \n",
    "    \n",
    "    return names\n",
    "#print(get_text('test_output.txt'))\n",
    "\n",
    "keep_adding('test_output.txt','next kadlkja')\n",
    "print(get_text('test_output.txt'))"
   ]
  },
  {
   "cell_type": "code",
   "execution_count": null,
   "metadata": {},
   "outputs": [],
   "source": []
  }
 ],
 "metadata": {
  "kernelspec": {
   "display_name": "Python 3",
   "language": "python",
   "name": "python3"
  },
  "language_info": {
   "codemirror_mode": {
    "name": "ipython",
    "version": 3
   },
   "file_extension": ".py",
   "mimetype": "text/x-python",
   "name": "python",
   "nbconvert_exporter": "python",
   "pygments_lexer": "ipython3",
   "version": "3.6.5"
  }
 },
 "nbformat": 4,
 "nbformat_minor": 2
}
