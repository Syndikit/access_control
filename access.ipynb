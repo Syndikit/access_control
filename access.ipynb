{
 "cells": [
  {
   "cell_type": "code",
   "execution_count": 1,
   "metadata": {},
   "outputs": [
    {
     "name": "stdout",
     "output_type": "stream",
     "text": [
      "<owner.Owner object at 0x000001A221B9B390>\n"
     ]
    }
   ],
   "source": [
    "\"\"\"\n",
    "Name: Michael Austin\n",
    "Login-ID: maa0075\n",
    "ID number: 800-259-122\n",
    "Assignment #: PA-2\n",
    "Date: 04/06/2019\n",
    "Purpose: Implement a simplified access control platform. \n",
    "\"\"\"\n",
    "\n",
    "import os\n",
    "import sys\n",
    "import platform\n",
    "import owner\n",
    "#import friend\n",
    "\n",
    "\"\"\"\n",
    "Constants\n",
    "\"\"\"\n",
    "START = 'friendadd'\n",
    "NAME_LEN = 30\n",
    "NAME_FORB =['/',':', '\\n','\\t', '\\ ']\n",
    "COMMANDS = ['friendadd','viewby','logout','listadd','friendlist','postpicture',\n",
    "            'chlst','chmod','chown','readcomments','writecomments','end']\n",
    "\n",
    "# Output file names \n",
    "FRIEND = 'friends.txt'\n",
    "LIST = 'lists.txt'\n",
    "PIC = 'pictures.txt'\n",
    "AUDIT = 'audit.txt'"
   ]
  },
  {
   "cell_type": "code",
   "execution_count": 2,
   "metadata": {},
   "outputs": [
    {
     "data": {
      "text/plain": [
       "\"\\ndef main(arg):\\n\\n    \\n    Gets the root of the current operating system for the absolute filepath\\n    Returns a file object\\n    \\n    file = get_file(arg)\\n    \\n    \\n    Each element in f is a list in which each word in the line of \\n    text read in is an element. E.g. f = [[friendadd,root], [viewby, root], ...]\\n    \\n    f = read_text(file)\\n    print(f[0])\\n    \\n\\n#main('TestCase1.txt')\\nmain(sys.argv[1])\\n\""
      ]
     },
     "execution_count": 2,
     "metadata": {},
     "output_type": "execute_result"
    }
   ],
   "source": [
    "\n",
    "def get_file(filename):\n",
    "    # Detects the OS: (Windows, Linux, MacOS = Darwin)\n",
    "    this_os = platform.system()\n",
    "    start = ''\n",
    "    # Decides which root to start with\n",
    "    if this_os == 'Windows':\n",
    "        start = 'c:\\\\users'\n",
    "    elif this_os == 'Linux':\n",
    "        start = 'root\\\\'\n",
    "    elif this_os == 'Darwin':\n",
    "        start = '\\\\User\\\\'\n",
    "    \n",
    "    # Checks current directory for files, first.\n",
    "    cwd = os.getcwd()\n",
    "    if filename in cwd:\n",
    "        file = os.path.abspath(cwd+'\\\\'+filename)\n",
    "        print(file)\n",
    "    else:\n",
    "        \"\"\"\n",
    "        File not found in cwd, start from the root and work down \n",
    "        until you find the file\n",
    "        \"\"\"\n",
    "        for root, dirs, files in os.walk(start):\n",
    "            for name in files:\n",
    "                if name == filename:\n",
    "                    return os.path.abspath(os.path.join(root, name))\n",
    "    \n",
    "    \n",
    "\n",
    "def read_text(file):\n",
    "    \"\"\"\n",
    "    Returns each line in the commands file as a list\n",
    "    \"\"\"\n",
    "    line_list = []\n",
    "    # Standard Python open(), specifying read mode and taking in filename from above\n",
    "    with open(file,'r') as f:\n",
    "        for line in f:\n",
    "            line_list.append(line.split())\n",
    "    return line_list\n",
    "\n",
    "\n",
    "def make_file(filename, first_entry):\n",
    "    \"\"\"  Creates the initial friends, audit, list, or pictures output files  \"\"\"\n",
    "    with open(filename, 'w') as f:\n",
    "        f.write(first_entry)\n",
    "\n",
    "\n",
    "def add_output_entry(file,text):\n",
    "    with open(file, 'a') as f:\n",
    "        f.write(text + \"\\n\")\n",
    "\n",
    "def pre_check(cmd_list):\n",
    "    for i in cmd_list:\n",
    "        if i[0] not in COMMANDS:\n",
    "            add_output_entry(AUDIT,f'{i} is not one of the valid commands.')\n",
    "            print(f'{i} is not one of the valid commands.')\n",
    "\n",
    "\"\"\"\n",
    "def main(arg):\n",
    "\n",
    "    \n",
    "    Gets the root of the current operating system for the absolute filepath\n",
    "    Returns a file object\n",
    "    \n",
    "    file = get_file(arg)\n",
    "    \n",
    "    \n",
    "    Each element in f is a list in which each word in the line of \n",
    "    text read in is an element. E.g. f = [[friendadd,root], [viewby, root], ...]\n",
    "    \n",
    "    f = read_text(file)\n",
    "    print(f[0])\n",
    "    \n",
    "\n",
    "#main('TestCase1.txt')\n",
    "main(sys.argv[1])\n",
    "\"\"\"\n",
    "    "
   ]
  },
  {
   "cell_type": "code",
   "execution_count": 4,
   "metadata": {},
   "outputs": [
    {
     "name": "stdout",
     "output_type": "stream",
     "text": [
      "Open Command File\n"
     ]
    }
   ],
   "source": [
    "try:\n",
    "    file = get_file('TestCase1.txt')\n",
    "    f = read_text(file)\n",
    "    make_file(AUDIT, 'Open Command File.\\n')\n",
    "    print('Open Command File')\n",
    "except FileNotFoundError as err:\n",
    "    make_file(AUDIT, err+' File was not found.')\n",
    "    print('File was not found')\n",
    "else:\n",
    "    pre_check(f)\n"
   ]
  },
  {
   "cell_type": "code",
   "execution_count": null,
   "metadata": {},
   "outputs": [],
   "source": []
  }
 ],
 "metadata": {
  "kernelspec": {
   "display_name": "Python 3",
   "language": "python",
   "name": "python3"
  },
  "language_info": {
   "codemirror_mode": {
    "name": "ipython",
    "version": 3
   },
   "file_extension": ".py",
   "mimetype": "text/x-python",
   "name": "python",
   "nbconvert_exporter": "python",
   "pygments_lexer": "ipython3",
   "version": "3.6.5"
  }
 },
 "nbformat": 4,
 "nbformat_minor": 2
}
