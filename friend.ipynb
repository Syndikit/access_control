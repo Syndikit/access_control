{
 "cells": [
  {
   "cell_type": "code",
   "execution_count": 1,
   "metadata": {},
   "outputs": [
    {
     "name": "stdout",
     "output_type": "stream",
     "text": [
      "['r', 'w']\n",
      "['r', 'w']\n"
     ]
    }
   ],
   "source": [
    "class Friend:\n",
    "    forbidden = ['friends.txt', 'audit.txt', 'lists.txt', 'pictures.txt']\n",
    "    valid_content = ['picture', 'comment', ]\n",
    "    \"\"\"\n",
    "    Constructor, taking in the instance of the Friend class automatically.\n",
    "    Permissions bestowed upon this particular friend\n",
    "    \"\"\"\n",
    "    def __init__(self, name, permissions):\n",
    "        self.name = name\n",
    "        self.permissions = permissions\n",
    "    \n",
    "    def post_content(self, content_type,content_label, text):\n",
    "        \n",
    "        if (content_label in forbidden):\n",
    "            raise Exception(\"That title/ label is not allowed.\")\n",
    "        else:\n",
    "            if content_type not in valid_content:\n",
    "                raise Exception('Invalid content type')\n",
    "            else: print('Valid')\n",
    "            \n",
    "\n",
    "dummy_perms = ['r', 'w']\n",
    "f1 = Friend('James',dummy_perms)\n",
    "print(f1.permissions)\n",
    "print(f1.post_content())\n"
   ]
  },
  {
   "cell_type": "code",
   "execution_count": null,
   "metadata": {},
   "outputs": [],
   "source": []
  }
 ],
 "metadata": {
  "kernelspec": {
   "display_name": "Python 3",
   "language": "python",
   "name": "python3"
  },
  "language_info": {
   "codemirror_mode": {
    "name": "ipython",
    "version": 3
   },
   "file_extension": ".py",
   "mimetype": "text/x-python",
   "name": "python",
   "nbconvert_exporter": "python",
   "pygments_lexer": "ipython3",
   "version": "3.6.5"
  }
 },
 "nbformat": 4,
 "nbformat_minor": 2
}
