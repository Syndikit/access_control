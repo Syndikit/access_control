{
 "cells": [
  {
   "cell_type": "code",
   "execution_count": 2,
   "metadata": {},
   "outputs": [
    {
     "name": "stdout",
     "output_type": "stream",
     "text": [
      "<__main__.Owner object at 0x000001CCFAFAA240>\n"
     ]
    }
   ],
   "source": [
    "\"\"\"\n",
    "Profile Owner Class\n",
    "Will be used to add friends, post content, etc. \n",
    "\"\"\"\n",
    "\n",
    "class Owner:\n",
    "    \n",
    "    \"\"\"\n",
    "    Constructor for owner of the profile\n",
    "    \"\"\"\n",
    "    def __init__(self):\n",
    "        pass\n",
    "    pass\n",
    "\n",
    "me = Owner()\n",
    "print(me)"
   ]
  },
  {
   "cell_type": "code",
   "execution_count": null,
   "metadata": {},
   "outputs": [],
   "source": []
  }
 ],
 "metadata": {
  "kernelspec": {
   "display_name": "Python 3",
   "language": "python",
   "name": "python3"
  },
  "language_info": {
   "codemirror_mode": {
    "name": "ipython",
    "version": 3
   },
   "file_extension": ".py",
   "mimetype": "text/x-python",
   "name": "python",
   "nbconvert_exporter": "python",
   "pygments_lexer": "ipython3",
   "version": "3.6.5"
  }
 },
 "nbformat": 4,
 "nbformat_minor": 2
}
